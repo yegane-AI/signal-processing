{
 "cells": [
  {
   "cell_type": "code",
   "execution_count": 12,
   "metadata": {},
   "outputs": [],
   "source": [
    "import numpy as np\n",
    "import matplotlib.pyplot as plt\n",
    "import wave\n",
    "import struct\n",
    "\n",
    "freq=2000\n",
    "sampling_rate=48000.0\n",
    "num_samples=48000\n",
    "amp=16000\n",
    "file=\"firstwav.wav\"\n",
    "sine_wave=[np.sin(2*np.pi*freq*x/sampling_rate) for x in range(num_samples)]\n",
    "\n",
    "nframes=num_samples\n",
    "comptype=\"NONE\"\n",
    "compname=\"not compressed\"\n",
    "nchannels=1\n",
    "sampwidth=2\n",
    "\n",
    "wav_file=wave.open(file,'wb')\n",
    "wav_file.setparams((nchannels, sampwidth, int(sampling_rate), nframes, comptype, compname))\n",
    "\n",
    "for s in sine_wave:\n",
    "    wav_file.writeframes(struct.pack('h',int(s*amp)))"
   ]
  },
  {
   "cell_type": "code",
   "execution_count": null,
   "metadata": {},
   "outputs": [],
   "source": []
  }
 ],
 "metadata": {
  "kernelspec": {
   "display_name": "Python 3",
   "language": "python",
   "name": "python3"
  },
  "language_info": {
   "codemirror_mode": {
    "name": "ipython",
    "version": 3
   },
   "file_extension": ".py",
   "mimetype": "text/x-python",
   "name": "python",
   "nbconvert_exporter": "python",
   "pygments_lexer": "ipython3",
   "version": "3.7.4"
  }
 },
 "nbformat": 4,
 "nbformat_minor": 2
}
